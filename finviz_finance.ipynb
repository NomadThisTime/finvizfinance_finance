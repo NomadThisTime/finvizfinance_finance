{
 "cells": [
  {
   "cell_type": "code",
   "execution_count": 2,
   "metadata": {},
   "outputs": [],
   "source": [
    "### import packages\n",
    "\n",
    "from finvizfinance.quote import finvizfinance\n",
    "from openpyxl import load_workbook"
   ]
  },
  {
   "cell_type": "code",
   "execution_count": 3,
   "metadata": {},
   "outputs": [],
   "source": [
    "### loading workbook\n",
    "\n",
    "wb = load_workbook('finvizfinance_workbook.xlsx')\n",
    "ws = wb.active"
   ]
  },
  {
   "cell_type": "code",
   "execution_count": 4,
   "metadata": {},
   "outputs": [],
   "source": [
    "### defining maximum column and row\n",
    "\n",
    "def get_maximum_cols():\n",
    "    for i in range(2, 20000):\n",
    "        if ws.cell(row=1, column= i).value == None:\n",
    "            max_col = i\n",
    "            break\n",
    "    return max_col-1\n",
    "\n",
    "def get_maximum_rows():\n",
    "    for i in range(2, 20000):\n",
    "        if ws.cell(row=i, column= 1).value == None:\n",
    "            max_row = i\n",
    "            break\n",
    "    return max_row-1"
   ]
  },
  {
   "cell_type": "code",
   "execution_count": 5,
   "metadata": {},
   "outputs": [],
   "source": [
    "### get ticker list from the first row\n",
    "\n",
    "ticker_list = []\n",
    "\n",
    "for row in ws.iter_rows(min_row=1, max_row=1, min_col=2, max_col=get_maximum_cols()):\n",
    "    for cell in row:\n",
    "        ticker_list.append(cell.value)"
   ]
  },
  {
   "cell_type": "code",
   "execution_count": 6,
   "metadata": {},
   "outputs": [],
   "source": [
    "### load tickers\n",
    "\n",
    "loaded_tickers = []\n",
    "\n",
    "for obj in ticker_list:\n",
    "    ticker = finvizfinance(obj).ticker_fundament()\n",
    "    loaded_tickers.append(ticker)"
   ]
  },
  {
   "cell_type": "code",
   "execution_count": 9,
   "metadata": {},
   "outputs": [],
   "source": [
    "### get data for each ticker\n",
    "\n",
    "all_ticker_data = []\n",
    "\n",
    "for i in range(0, len(loaded_tickers)):\n",
    "    all_ticker_data.extend((\n",
    "                            loaded_tickers[i].get('Price', 'N/A'),\n",
    "                            loaded_tickers[i].get('Dividend', 'N/A'),\n",
    "                            loaded_tickers[i].get('Dividend %', 'N/A'),\n",
    "                            loaded_tickers[i].get('P/E', 'N/A'),\n",
    "                            loaded_tickers[i].get('Forward P/E', 'N/A'),\n",
    "                            loaded_tickers[i].get('Debt/Eq', 'N/A'),\n",
    "                            loaded_tickers[i].get('SMA20', 'N/A'),\n",
    "                            loaded_tickers[i].get('EPS (ttm)', 'N/A'),\n",
    "                            loaded_tickers[i].get('EPS next 5Y', 'N/A'),\n",
    "                            loaded_tickers[i].get('Earnings', 'N/A'),\n",
    "                            loaded_tickers[i].get('SMA50', 'N/A'),\n",
    "                            loaded_tickers[i].get('Payout', 'N/A'),\n",
    "                            loaded_tickers[i].get('SMA200', 'N/A'),\n",
    "                            loaded_tickers[i].get('Short Float / Ratio', 'N/A'),\n",
    "                            loaded_tickers[i].get('Target Price', 'N/A'),\n",
    "                            str(float(loaded_tickers[i].get('52W Range To', 'N/A')) - float(loaded_tickers[i].get('52W Range From', 'N/A'))),\n",
    "                            loaded_tickers[i].get('52W High', 'N/A'),\n",
    "                            loaded_tickers[i].get('52W Low', 'N/A'),\n",
    "                            loaded_tickers[i].get('RSI (14)', 'N/A'),\n",
    "                            loaded_tickers[i].get('Rel Volume', 'N/A'),\n",
    "                            loaded_tickers[i].get('Perf Week', 'N/A'),\n",
    "                            loaded_tickers[i].get('Perf Month', 'N/A'),\n",
    "                            loaded_tickers[i].get('Perf Quarter', 'N/A'),\n",
    "                            loaded_tickers[i].get('Perf Half Y', 'N/A'),\n",
    "                            loaded_tickers[i].get('Perf Year', 'N/A'),\n",
    "                            loaded_tickers[i].get('Perf YTD', 'N/A'),\n",
    "                            loaded_tickers[i].get('Beta', 'N/A')\n",
    "                            ))"
   ]
  },
  {
   "cell_type": "code",
   "execution_count": 10,
   "metadata": {},
   "outputs": [],
   "source": [
    "### format tickers\n",
    "\n",
    "all_tickers_formatted = []\n",
    "for item in all_ticker_data:\n",
    "    ftick = item.replace(\".\",\",\")\n",
    "    all_tickers_formatted.append(ftick)"
   ]
  },
  {
   "cell_type": "code",
   "execution_count": 11,
   "metadata": {},
   "outputs": [],
   "source": [
    "### put data into worksheet\n",
    "\n",
    "i = 0\n",
    "\n",
    "for col in ws.iter_cols(min_row=2, max_row=get_maximum_rows(), min_col=2, max_col=get_maximum_cols()):\n",
    "    for cell in col:\n",
    "        cell.value = all_tickers_formatted[i]\n",
    "        i += 1"
   ]
  },
  {
   "cell_type": "code",
   "execution_count": 12,
   "metadata": {},
   "outputs": [],
   "source": [
    "### save workbook\n",
    "\n",
    "wb.save('finvizfinance_workbook.xlsx')"
   ]
  }
 ],
 "metadata": {
  "kernelspec": {
   "display_name": "Python 3",
   "language": "python",
   "name": "python3"
  },
  "language_info": {
   "codemirror_mode": {
    "name": "ipython",
    "version": 3
   },
   "file_extension": ".py",
   "mimetype": "text/x-python",
   "name": "python",
   "nbconvert_exporter": "python",
   "pygments_lexer": "ipython3",
   "version": "3.10.7"
  },
  "orig_nbformat": 4
 },
 "nbformat": 4,
 "nbformat_minor": 2
}
